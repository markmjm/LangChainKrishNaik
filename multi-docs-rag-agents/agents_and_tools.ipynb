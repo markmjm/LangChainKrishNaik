{
 "cells": [
  {
   "metadata": {
    "ExecuteTime": {
     "end_time": "2024-05-19T12:55:38.083483Z",
     "start_time": "2024-05-19T12:55:38.074484Z"
    }
   },
   "cell_type": "code",
   "source": [
    "from langchain_community.tools import WikipediaQueryRun\n",
    "from langchain_community.utilities import WikipediaAPIWrapper\n",
    "from langchain_community.vectorstores import FAISS\n",
    "from langchain_openai import OpenAIEmbeddings\n",
    "from langchain_text_splitters import RecursiveCharacterTextSplitter\n",
    "from langchain_community.document_loaders import WebBaseLoader\n",
    "from langchain.tools.retriever import create_retriever_tool\n",
    "from langchain_community.utilities import ArxivAPIWrapper\n",
    "from langchain_community.tools import ArxivQueryRun\n",
    "from langchain.agents import create_openai_tools_agent\n",
    "from langchain_openai import ChatOpenAI\n",
    "from langchain import hub\n",
    "from langchain.agents import AgentExecutor\n",
    "from dotenv import load_dotenv"
   ],
   "id": "ec1490e99b49fda2",
   "outputs": [],
   "execution_count": 114
  },
  {
   "metadata": {
    "ExecuteTime": {
     "end_time": "2024-05-19T12:55:38.129569Z",
     "start_time": "2024-05-19T12:55:38.086486Z"
    }
   },
   "cell_type": "code",
   "source": [
    "load_dotenv()\n",
    "llm= ChatOpenAI(model='gpt-3.5-turbo', temperature = 0)"
   ],
   "id": "8ca0e98f613b2afc",
   "outputs": [],
   "execution_count": 115
  },
  {
   "metadata": {
    "ExecuteTime": {
     "end_time": "2024-05-19T12:55:38.145294Z",
     "start_time": "2024-05-19T12:55:38.131569Z"
    }
   },
   "cell_type": "code",
   "source": [
    "## wiki-tool\n",
    "wiki_api_wrapper = WikipediaAPIWrapper(top_k_results=1, doc_content_chars_max=200)\n",
    "wiki_tool = WikipediaQueryRun(api_wrapper=wiki_api_wrapper)\n",
    "wiki_tool.name"
   ],
   "id": "713adda6724bbbc4",
   "outputs": [
    {
     "data": {
      "text/plain": [
       "'wikipedia'"
      ]
     },
     "execution_count": 116,
     "metadata": {},
     "output_type": "execute_result"
    }
   ],
   "execution_count": 116
  },
  {
   "metadata": {
    "ExecuteTime": {
     "end_time": "2024-05-19T12:55:39.203880Z",
     "start_time": "2024-05-19T12:55:38.148817Z"
    }
   },
   "cell_type": "code",
   "source": [
    "## web-page-parsing-tool - we are using https://docs.smith.langchain.com as example.\n",
    "## https://python.langchain.com/v0.1/docs/use_cases/question_answering/conversational_retrieval_agents/\n",
    "loader = WebBaseLoader('https://docs.smith.langchain.com/')\n",
    "docs = loader.load()\n",
    "documents = RecursiveCharacterTextSplitter(chunk_size=1000, chunk_overlap=200).split_documents(docs)\n",
    "vectordb = FAISS.from_documents(documents, OpenAIEmbeddings())\n",
    "retriever = vectordb.as_retriever()\n",
    "langsmith_tool = create_retriever_tool(\n",
    "    retriever,\n",
    "    \"langsmith_search\",\n",
    "    \"Search for information about LangSmith. For any questions about LangSmith, you must use this tool!\",\n",
    ")\n",
    "langsmith_tool.name"
   ],
   "id": "97cc22eaa21168bf",
   "outputs": [
    {
     "data": {
      "text/plain": [
       "'langsmith_search'"
      ]
     },
     "execution_count": 117,
     "metadata": {},
     "output_type": "execute_result"
    }
   ],
   "execution_count": 117
  },
  {
   "metadata": {
    "ExecuteTime": {
     "end_time": "2024-05-19T12:55:39.219393Z",
     "start_time": "2024-05-19T12:55:39.204879Z"
    }
   },
   "cell_type": "code",
   "source": [
    "## Arxiv tool\n",
    "## Arxiv: https://arxiv.org/   \n",
    "##arXiv is a free distribution service and an open-access archive for nearly 2.4 million scholarly articles in the fields of physics, mathematics, computer science, quantitative biology, quantitative finance, statistics, electrical engineering and systems science, and economics. Materials on this site are not peer-reviewed by arXiv.\n",
    "arxiv_api_wrapper = ArxivAPIWrapper(top_k_results=1, doc_content_chars_max=200)\n",
    "arxiv_tool = ArxivQueryRun(api_wrapper=arxiv_api_wrapper)\n",
    "arxiv_tool.name"
   ],
   "id": "81a8e97a318ee612",
   "outputs": [
    {
     "data": {
      "text/plain": [
       "'arxiv'"
      ]
     },
     "execution_count": 118,
     "metadata": {},
     "output_type": "execute_result"
    }
   ],
   "execution_count": 118
  },
  {
   "metadata": {
    "ExecuteTime": {
     "end_time": "2024-05-19T12:55:42.993052Z",
     "start_time": "2024-05-19T12:55:39.220391Z"
    }
   },
   "cell_type": "code",
   "source": [
    "## create a prompt for the tool below.\n",
    "prompt = hub.pull(\"hwchase17/openai-functions-agent\")\n",
    "prompt.messages"
   ],
   "id": "f714dd9912dcbfc6",
   "outputs": [
    {
     "data": {
      "text/plain": [
       "[SystemMessagePromptTemplate(prompt=PromptTemplate(input_variables=[], template='You are a helpful assistant')),\n",
       " MessagesPlaceholder(variable_name='chat_history', optional=True),\n",
       " HumanMessagePromptTemplate(prompt=PromptTemplate(input_variables=['input'], template='{input}')),\n",
       " MessagesPlaceholder(variable_name='agent_scratchpad')]"
      ]
     },
     "execution_count": 119,
     "metadata": {},
     "output_type": "execute_result"
    }
   ],
   "execution_count": 119
  },
  {
   "metadata": {
    "ExecuteTime": {
     "end_time": "2024-05-19T12:55:43.008313Z",
     "start_time": "2024-05-19T12:55:42.995080Z"
    }
   },
   "cell_type": "code",
   "source": [
    "## Agents\n",
    "## https://python.langchain.com/v0.1/docs/modules/agents/\n",
    "## The core idea of agents is to use a language model to choose a sequence of actions to take. In chains, a sequence of actions is hardcoded (in code).\n",
    "## In agents, a language model is used as a reasoning engine to determine which actions to take and in which order.\n",
    "tools = [wiki_tool, arxiv_tool, langsmith_tool]\n",
    "# we got three tools, agent will search each tool for my qry.  if it does not find in wiki_too, it will try langsmith_tool, \n",
    "# if it does not find it in langsmith tool, will try Arxiv_tool.\n",
    "agent=create_openai_tools_agent(llm=llm, tools=tools, prompt=prompt)"
   ],
   "id": "2691ff34ba5411e2",
   "outputs": [],
   "execution_count": 120
  },
  {
   "metadata": {
    "ExecuteTime": {
     "end_time": "2024-05-19T12:55:46.193061Z",
     "start_time": "2024-05-19T12:55:43.009314Z"
    }
   },
   "cell_type": "code",
   "source": [
    "## Agent Executer\n",
    "agent_executor = AgentExecutor(agent=agent, tools=tools, verbose = True)\n",
    "#response = agent_executor.invoke({'input':'tells me about LangSmith'}) # will pick info from LangSmith web page\n",
    "#response = agent_executor.invoke({'input':'tells me about Machine Learning'})  # will pick info from Wiki\n",
    "response = agent_executor.invoke({'input':'tells me what this paper 1605.08386 is all about'})   # will pick info from Arxiv\n",
    "print(response['input'])\n",
    "print(response['output'])"
   ],
   "id": "394f73e735da605e",
   "outputs": [
    {
     "name": "stdout",
     "output_type": "stream",
     "text": [
      "\n",
      "\n",
      "\u001B[1m> Entering new AgentExecutor chain...\u001B[0m\n",
      "\u001B[32;1m\u001B[1;3m\n",
      "Invoking: `arxiv` with `{'query': '1605.08386'}`\n",
      "\n",
      "\n",
      "\u001B[0m\u001B[33;1m\u001B[1;3mPublished: 2016-05-26\n",
      "Title: Heat-bath random walks with Markov bases\n",
      "Authors: Caprice Stanley, Tobias Windisch\n",
      "Summary: Graphs on lattice points are studied whose edges come from a finite set of\n",
      "allo\u001B[0m\u001B[32;1m\u001B[1;3mThe paper with identifier 1605.08386 is titled \"Heat-bath random walks with Markov bases\" by authors Caprice Stanley and Tobias Windisch. The paper discusses the study of graphs on lattice points where the edges are derived from a finite set of allocations.\u001B[0m\n",
      "\n",
      "\u001B[1m> Finished chain.\u001B[0m\n",
      "tells me what this paper 1605.08386 is all about\n",
      "The paper with identifier 1605.08386 is titled \"Heat-bath random walks with Markov bases\" by authors Caprice Stanley and Tobias Windisch. The paper discusses the study of graphs on lattice points where the edges are derived from a finite set of allocations.\n"
     ]
    }
   ],
   "execution_count": 121
  }
 ],
 "metadata": {
  "kernelspec": {
   "display_name": "Python 3",
   "language": "python",
   "name": "python3"
  },
  "language_info": {
   "codemirror_mode": {
    "name": "ipython",
    "version": 2
   },
   "file_extension": ".py",
   "mimetype": "text/x-python",
   "name": "python",
   "nbconvert_exporter": "python",
   "pygments_lexer": "ipython2",
   "version": "2.7.6"
  }
 },
 "nbformat": 4,
 "nbformat_minor": 5
}
