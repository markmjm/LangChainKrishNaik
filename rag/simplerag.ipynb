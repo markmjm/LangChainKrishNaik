{
 "cells": [
  {
   "cell_type": "code",
   "id": "initial_id",
   "metadata": {
    "collapsed": true,
    "ExecuteTime": {
     "end_time": "2024-05-18T10:38:20.122524Z",
     "start_time": "2024-05-18T10:38:18.346466Z"
    }
   },
   "source": [
    "import bs4\n",
    "from dotenv import load_dotenv\n",
    "from langchain.text_splitter import RecursiveCharacterTextSplitter\n",
    "## Digital Ingestion\n",
    "from langchain_community.document_loaders import TextLoader, WebBaseLoader, PyPDFLoader\n",
    "from langchain_community.embeddings import OpenAIEmbeddings\n",
    "from langchain_community.vectorstores import Chroma, FAISS\n",
    "\n",
    "load_dotenv()\n",
    "\n",
    "## LOAD TEXT FILE\n",
    "loader = TextLoader(\"../files/speech.txt\")\n",
    "text_document = loader.load()\n",
    "\n",
    "## LOAD WEB BASED DOC.  Load, chunk and index the content of the html page\n",
    "loader = WebBaseLoader(web_paths=(\"https://lilianweng.github.io/posts/2023-06-23-agent/\",),\n",
    "                       bs_kwargs=dict(parse_only=bs4.SoupStrainer(\n",
    "                           class_=(\"post-title\", \"post-content\", \"post-header\")  ## html tags classes you want to read\n",
    "                       )))\n",
    "web_documents = loader.load()\n",
    "\n",
    "## LOAD PDF file\n",
    "loader = PyPDFLoader(\"../files/attention.pdf\")\n",
    "pdf_document = loader.load()\n",
    "text_splitter = RecursiveCharacterTextSplitter(chunk_size=1000, chunk_overlap=200)\n",
    "documents = text_splitter.split_documents(pdf_document)\n"
   ],
   "outputs": [],
   "execution_count": 24
  },
  {
   "metadata": {
    "ExecuteTime": {
     "end_time": "2024-05-18T10:38:21.803024Z",
     "start_time": "2024-05-18T10:38:20.124764Z"
    }
   },
   "cell_type": "code",
   "source": [
    "## DB : Vector DB, Embedding and Vector Store\n",
    "db_chroma = Chroma.from_documents(documents[:20], OpenAIEmbeddings())\n",
    "db_faiss = FAISS.from_documents(documents[:20],OpenAIEmbeddings())"
   ],
   "id": "5c9c5c6469956d46",
   "outputs": [],
   "execution_count": 25
  },
  {
   "metadata": {
    "ExecuteTime": {
     "end_time": "2024-05-18T10:38:21.938043Z",
     "start_time": "2024-05-18T10:38:21.804643Z"
    }
   },
   "cell_type": "code",
   "source": [
    "# query = \"Who are the authors of the attentions is all you need research paper\"\n",
    "# query = \"What is attentions is all you need\"\n",
    "# query = \"An attention function can be described as mapping query\"\n",
    "# results_chroma = db_chroma.similarity_search(query)\n",
    "# results_chroma[0].page_content\n",
    "#\n",
    "query = \"An attention function can be described as mapping query\"\n",
    "results_faiss = db_faiss.similarity_search(query)\n",
    "results_faiss[0].page_content"
   ],
   "id": "1e38dc2fc5ea69a9",
   "outputs": [
    {
     "data": {
      "text/plain": [
       "'3.2 Attention\\nAn attention function can be described as mapping a query and a set of key-value pairs to an output,\\nwhere the query, keys, values, and output are all vectors. The output is computed as a weighted sum\\n3'"
      ]
     },
     "execution_count": 26,
     "metadata": {},
     "output_type": "execute_result"
    }
   ],
   "execution_count": 26
  },
  {
   "metadata": {
    "ExecuteTime": {
     "end_time": "2024-05-18T10:38:21.954142Z",
     "start_time": "2024-05-18T10:38:21.940043Z"
    }
   },
   "cell_type": "code",
   "source": "",
   "id": "b8648edeeb66d7c8",
   "outputs": [],
   "execution_count": 26
  }
 ],
 "metadata": {
  "kernelspec": {
   "display_name": "Python 3",
   "language": "python",
   "name": "python3"
  },
  "language_info": {
   "codemirror_mode": {
    "name": "ipython",
    "version": 2
   },
   "file_extension": ".py",
   "mimetype": "text/x-python",
   "name": "python",
   "nbconvert_exporter": "python",
   "pygments_lexer": "ipython2",
   "version": "2.7.6"
  }
 },
 "nbformat": 4,
 "nbformat_minor": 5
}
