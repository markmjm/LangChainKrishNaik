{
 "cells": [
  {
   "cell_type": "code",
   "id": "initial_id",
   "metadata": {
    "collapsed": true,
    "ExecuteTime": {
     "end_time": "2024-05-18T19:02:02.915140Z",
     "start_time": "2024-05-18T19:02:00.939719Z"
    }
   },
   "source": [
    "import bs4\n",
    "from dotenv import load_dotenv\n",
    "from langchain.text_splitter import RecursiveCharacterTextSplitter\n",
    "## Digital Ingestion\n",
    "from langchain_community.document_loaders import TextLoader, WebBaseLoader, PyPDFLoader\n",
    "from langchain_community.embeddings import OpenAIEmbeddings\n",
    "from langchain_community.vectorstores import Chroma, FAISS\n",
    "from langchain_community.llms import Ollama, OpenAIChat\n",
    "from langchain_core.prompts import ChatPromptTemplate\n",
    "from langchain.chains.combine_documents import create_stuff_documents_chain\n",
    "from langchain.chains import create_retrieval_chain\n",
    "\n",
    "load_dotenv()\n",
    "\n",
    "## LOAD TEXT FILE\n",
    "loader = TextLoader(\"../files/speech.txt\")\n",
    "text_document = loader.load()\n",
    "\n",
    "## LOAD WEB BASED DOC.  Load, chunk and index the content of the html page\n",
    "loader = WebBaseLoader(web_paths=(\"https://lilianweng.github.io/posts/2023-06-23-agent/\",),\n",
    "                       bs_kwargs=dict(parse_only=bs4.SoupStrainer(\n",
    "                           class_=(\"post-title\", \"post-content\", \"post-header\")  ## html tags classes you want to read\n",
    "                       )))\n",
    "web_documents = loader.load()\n",
    "\n",
    "## LOAD PDF file\n",
    "loader = PyPDFLoader(\"../files/attention.pdf\")\n",
    "pdf_document = loader.load()\n",
    "text_splitter = RecursiveCharacterTextSplitter(chunk_size=1000, chunk_overlap=200)\n",
    "documents = text_splitter.split_documents(pdf_document)\n"
   ],
   "outputs": [],
   "execution_count": 79
  },
  {
   "metadata": {
    "ExecuteTime": {
     "end_time": "2024-05-18T19:02:04.178190Z",
     "start_time": "2024-05-18T19:02:02.919142Z"
    }
   },
   "cell_type": "code",
   "source": [
    "## DB : Vector DB, Embedding and Vector Store\n",
    "db_chroma = Chroma.from_documents(documents[:20], OpenAIEmbeddings())\n",
    "db_faiss = FAISS.from_documents(documents[:20],OpenAIEmbeddings())"
   ],
   "id": "5c9c5c6469956d46",
   "outputs": [],
   "execution_count": 80
  },
  {
   "metadata": {
    "ExecuteTime": {
     "end_time": "2024-05-18T19:02:04.347119Z",
     "start_time": "2024-05-18T19:02:04.180191Z"
    }
   },
   "cell_type": "code",
   "source": [
    "# query = \"Who are the authors of the attentions is all you need research paper\"\n",
    "# query = \"What is attentions is all you need\"\n",
    "# query = \"An attention function can be described as mapping query\"\n",
    "# results_chroma = db_chroma.similarity_search(query)\n",
    "# results_chroma[0].page_content\n",
    "#\n",
    "query = \"An attention function can be described as mapping query\"\n",
    "results_faiss = db_faiss.similarity_search(query)\n",
    "results_faiss[0].page_content"
   ],
   "id": "1e38dc2fc5ea69a9",
   "outputs": [
    {
     "data": {
      "text/plain": [
       "'3.2 Attention\\nAn attention function can be described as mapping a query and a set of key-value pairs to an output,\\nwhere the query, keys, values, and output are all vectors. The output is computed as a weighted sum\\n3'"
      ]
     },
     "execution_count": 81,
     "metadata": {},
     "output_type": "execute_result"
    }
   ],
   "execution_count": 81
  },
  {
   "metadata": {
    "ExecuteTime": {
     "end_time": "2024-05-18T19:02:04.362209Z",
     "start_time": "2024-05-18T19:02:04.350120Z"
    }
   },
   "cell_type": "code",
   "source": [
    "## Load Ollama LAMA2 LLM model\n",
    "llm=Ollama(model=\"gemma:2b\")\n",
    "## Design ChatPrompt Template\n",
    "prompt = ChatPromptTemplate.from_template(\"\"\"\n",
    "Answer the following question based only on the provided context. \n",
    "Think step by step before providing a detailed answer.\n",
    "<context>\n",
    "{context}\n",
    "</context>\n",
    "Question: {input}\"\"\")"
   ],
   "id": "b8648edeeb66d7c8",
   "outputs": [],
   "execution_count": 82
  },
  {
   "metadata": {
    "ExecuteTime": {
     "end_time": "2024-05-18T19:02:04.378289Z",
     "start_time": "2024-05-18T19:02:04.363753Z"
    }
   },
   "cell_type": "code",
   "source": [
    "## Create Stuff Document Chain\n",
    "document_chain = create_stuff_documents_chain(\n",
    "    llm=llm, \n",
    "    prompt=prompt\n",
    ")\n"
   ],
   "id": "da8041f4fdae54fe",
   "outputs": [],
   "execution_count": 83
  },
  {
   "metadata": {
    "ExecuteTime": {
     "end_time": "2024-05-18T19:02:04.393850Z",
     "start_time": "2024-05-18T19:02:04.380289Z"
    }
   },
   "cell_type": "code",
   "source": [
    "\"\"\"\n",
    "Retrievers: A retriever is an interface that returns documents given\n",
    " an unstructured query. It is more general than a vector store.\n",
    " A retriever does not need to be able to store documents, only to \n",
    " return (or retrieve) them. Vector stores can be used as the backbone\n",
    " of a retriever, but there are other types of retrievers as well. \n",
    " https://python.langchain.com/docs/modules/data_connection/retrievers/   \n",
    "\"\"\"\n",
    "\n",
    "retriever=db_faiss.as_retriever()"
   ],
   "id": "bb6965d3eaa0fd04",
   "outputs": [],
   "execution_count": 84
  },
  {
   "metadata": {
    "ExecuteTime": {
     "end_time": "2024-05-18T19:02:08.222934Z",
     "start_time": "2024-05-18T19:02:04.395849Z"
    }
   },
   "cell_type": "code",
   "source": [
    "\n",
    "\"\"\"\n",
    "Retrieval chain:This chain takes in a user inquiry, which is then\n",
    "passed to the retriever to fetch relevant documents. Those documents \n",
    "(and original inputs) are then passed to an LLM to generate a response\n",
    "https://python.langchain.com/docs/modules/chains/\n",
    "\"\"\"\n",
    "retrieval_chain=create_retrieval_chain(retriever,document_chain)\n",
    "response = retrieval_chain.invoke({\n",
    "    \"input\":  \"An attention function can be described as mapping query\",\n",
    "    \n",
    "})"
   ],
   "id": "7ee1236205cbe6b5",
   "outputs": [],
   "execution_count": 85
  },
  {
   "metadata": {
    "ExecuteTime": {
     "end_time": "2024-05-18T19:02:08.238072Z",
     "start_time": "2024-05-18T19:02:08.224447Z"
    }
   },
   "cell_type": "code",
   "source": "print(response['answer'])",
   "id": "d483af8756b540d1",
   "outputs": [
    {
     "name": "stdout",
     "output_type": "stream",
     "text": [
      "Sure, here is an answer based on the context:\n",
      "\n",
      "The context does not provide any information about an attention function, so I cannot answer this question from the provided context.\n"
     ]
    }
   ],
   "execution_count": 86
  }
 ],
 "metadata": {
  "kernelspec": {
   "display_name": "Python 3",
   "language": "python",
   "name": "python3"
  },
  "language_info": {
   "codemirror_mode": {
    "name": "ipython",
    "version": 2
   },
   "file_extension": ".py",
   "mimetype": "text/x-python",
   "name": "python",
   "nbconvert_exporter": "python",
   "pygments_lexer": "ipython2",
   "version": "2.7.6"
  }
 },
 "nbformat": 4,
 "nbformat_minor": 5
}
